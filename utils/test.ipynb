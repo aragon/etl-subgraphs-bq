{
 "cells": [
  {
   "cell_type": "code",
   "execution_count": 53,
   "metadata": {},
   "outputs": [],
   "source": [
    "import pandas as pd\n",
    "import ast\n",
    "import os\n",
    "\n",
    "STRATEGIES = \"['erc20-balance-of', 'erc721']\"\n",
    "#STRATEGIES = os.getenv(STRATEGIES)\n",
    "\n",
    "\n",
    "class Spaces:\n",
    "    def __init__(\n",
    "        self,\n",
    "        df : pd.DataFrame):\n",
    "\n",
    "        self.df = df\n",
    "        # Transform to list of strs\n",
    "        self.strategies = ast.literal_eval(STRATEGIES)\n",
    "\n",
    "    def _get_spaces_strategies(self):\n",
    "        # https://snapshot.org/#/strategies\n",
    "        fields = []\n",
    "        # Transform to list of dicts\n",
    "        self.df.strategies = self.df.strategies.apply(lambda x: ast.literal_eval(x)) \n",
    "        names = []\n",
    "        strats = []\n",
    "        for y in self.df.strategies:\n",
    "            _fields = []\n",
    "            _strats = []\n",
    "            for x in y:\n",
    "                name = x.get(\"name\", \"\")\n",
    "                if name in self.strategies:    \n",
    "                    names.append(name)\n",
    "                    _strats.append(name)\n",
    "                    params = x.get(\"params\", {})\n",
    "                    for k, v in params.items():\n",
    "                        field = {\"_\".join([name, k]) : v}\n",
    "                        _fields.append(field)\n",
    "            _fields = {k: v for d in _fields for k, v in d.items()} # merge dicts\n",
    "            fields.append(_fields)\n",
    "            strats.append(_strats)\n",
    "        \n",
    "        print(\"end\")\n",
    "        return fields, names, strats\n",
    "\n"
   ]
  },
  {
   "cell_type": "code",
   "execution_count": 54,
   "metadata": {},
   "outputs": [],
   "source": [
    "df = pd.read_csv(\"../df_spaces_new.csv\")"
   ]
  },
  {
   "cell_type": "code",
   "execution_count": 55,
   "metadata": {},
   "outputs": [
    {
     "data": {
      "text/html": [
       "<div>\n",
       "<style scoped>\n",
       "    .dataframe tbody tr th:only-of-type {\n",
       "        vertical-align: middle;\n",
       "    }\n",
       "\n",
       "    .dataframe tbody tr th {\n",
       "        vertical-align: top;\n",
       "    }\n",
       "\n",
       "    .dataframe thead th {\n",
       "        text-align: right;\n",
       "    }\n",
       "</style>\n",
       "<table border=\"1\" class=\"dataframe\">\n",
       "  <thead>\n",
       "    <tr style=\"text-align: right;\">\n",
       "      <th></th>\n",
       "      <th>Unnamed: 0</th>\n",
       "      <th>id</th>\n",
       "      <th>name</th>\n",
       "      <th>about</th>\n",
       "      <th>avatar</th>\n",
       "      <th>terms</th>\n",
       "      <th>symbol</th>\n",
       "      <th>skin</th>\n",
       "      <th>github</th>\n",
       "      <th>email</th>\n",
       "      <th>...</th>\n",
       "      <th>plugins_quorum_methodABI_outputs</th>\n",
       "      <th>plugins_quorum_methodABI_stateMutability</th>\n",
       "      <th>plugins_quorum</th>\n",
       "      <th>plugins_safeSnap_name</th>\n",
       "      <th>plugins_safeSnap_filters_minScore</th>\n",
       "      <th>plugins_safeSnap_filters_defaultTab</th>\n",
       "      <th>plugins_safeSnap_plugins_daoModule_address</th>\n",
       "      <th>plugins_safeSnap_strategies</th>\n",
       "      <th>plugins_safeSnap_daoModule_address</th>\n",
       "      <th>plugins_aragon_id</th>\n",
       "    </tr>\n",
       "  </thead>\n",
       "  <tbody>\n",
       "    <tr>\n",
       "      <th>0</th>\n",
       "      <td>0</td>\n",
       "      <td>homdao.eth</td>\n",
       "      <td>HOM DAO</td>\n",
       "      <td>Providing keys for you to build wealth, buy pr...</td>\n",
       "      <td>ipfs://QmaKxkniLdrnrM64JpfPXXWVS49i4UgX2qzT5df...</td>\n",
       "      <td>NaN</td>\n",
       "      <td>PHOM</td>\n",
       "      <td>NaN</td>\n",
       "      <td>NaN</td>\n",
       "      <td>NaN</td>\n",
       "      <td>...</td>\n",
       "      <td>NaN</td>\n",
       "      <td>NaN</td>\n",
       "      <td>NaN</td>\n",
       "      <td>NaN</td>\n",
       "      <td>NaN</td>\n",
       "      <td>NaN</td>\n",
       "      <td>NaN</td>\n",
       "      <td>NaN</td>\n",
       "      <td>NaN</td>\n",
       "      <td>NaN</td>\n",
       "    </tr>\n",
       "    <tr>\n",
       "      <th>1</th>\n",
       "      <td>1</td>\n",
       "      <td>northpolemoney.eth</td>\n",
       "      <td>NorthPole.money</td>\n",
       "      <td>A distant island where you freeze your assets ...</td>\n",
       "      <td>ipfs://QmRBD5Tff7YKAFF2xmdJ42YiGFGmgc8GoUt1o72...</td>\n",
       "      <td>NaN</td>\n",
       "      <td>sNORTH</td>\n",
       "      <td>NaN</td>\n",
       "      <td>NaN</td>\n",
       "      <td>NaN</td>\n",
       "      <td>...</td>\n",
       "      <td>NaN</td>\n",
       "      <td>NaN</td>\n",
       "      <td>NaN</td>\n",
       "      <td>NaN</td>\n",
       "      <td>NaN</td>\n",
       "      <td>NaN</td>\n",
       "      <td>NaN</td>\n",
       "      <td>NaN</td>\n",
       "      <td>NaN</td>\n",
       "      <td>NaN</td>\n",
       "    </tr>\n",
       "    <tr>\n",
       "      <th>2</th>\n",
       "      <td>2</td>\n",
       "      <td>web3-dao.eth</td>\n",
       "      <td>Web3 DAO</td>\n",
       "      <td>Web3 Investment Club</td>\n",
       "      <td>NaN</td>\n",
       "      <td>NaN</td>\n",
       "      <td>WEB3</td>\n",
       "      <td>balancer</td>\n",
       "      <td>NaN</td>\n",
       "      <td>NaN</td>\n",
       "      <td>...</td>\n",
       "      <td>NaN</td>\n",
       "      <td>NaN</td>\n",
       "      <td>NaN</td>\n",
       "      <td>NaN</td>\n",
       "      <td>NaN</td>\n",
       "      <td>NaN</td>\n",
       "      <td>NaN</td>\n",
       "      <td>NaN</td>\n",
       "      <td>NaN</td>\n",
       "      <td>NaN</td>\n",
       "    </tr>\n",
       "    <tr>\n",
       "      <th>3</th>\n",
       "      <td>3</td>\n",
       "      <td>tonkavan.eth</td>\n",
       "      <td>Decentralized S3</td>\n",
       "      <td>NaN</td>\n",
       "      <td>ipfs://QmcpZbih6wHbh5Lr1VbB39zo1kvLc679iN1GeUc...</td>\n",
       "      <td>NaN</td>\n",
       "      <td>S3</td>\n",
       "      <td>agdeportes</td>\n",
       "      <td>NaN</td>\n",
       "      <td>NaN</td>\n",
       "      <td>...</td>\n",
       "      <td>NaN</td>\n",
       "      <td>NaN</td>\n",
       "      <td>NaN</td>\n",
       "      <td>NaN</td>\n",
       "      <td>NaN</td>\n",
       "      <td>NaN</td>\n",
       "      <td>NaN</td>\n",
       "      <td>NaN</td>\n",
       "      <td>NaN</td>\n",
       "      <td>NaN</td>\n",
       "    </tr>\n",
       "    <tr>\n",
       "      <th>4</th>\n",
       "      <td>4</td>\n",
       "      <td>sbudao.eth</td>\n",
       "      <td>SBU</td>\n",
       "      <td>NaN</td>\n",
       "      <td>https://pbs.twimg.com/profile_images/146153299...</td>\n",
       "      <td>NaN</td>\n",
       "      <td>SBU</td>\n",
       "      <td>NaN</td>\n",
       "      <td>NaN</td>\n",
       "      <td>NaN</td>\n",
       "      <td>...</td>\n",
       "      <td>NaN</td>\n",
       "      <td>NaN</td>\n",
       "      <td>NaN</td>\n",
       "      <td>NaN</td>\n",
       "      <td>NaN</td>\n",
       "      <td>NaN</td>\n",
       "      <td>NaN</td>\n",
       "      <td>NaN</td>\n",
       "      <td>NaN</td>\n",
       "      <td>NaN</td>\n",
       "    </tr>\n",
       "  </tbody>\n",
       "</table>\n",
       "<p>5 rows × 58 columns</p>\n",
       "</div>"
      ],
      "text/plain": [
       "   Unnamed: 0                  id              name  \\\n",
       "0           0          homdao.eth           HOM DAO   \n",
       "1           1  northpolemoney.eth   NorthPole.money   \n",
       "2           2        web3-dao.eth          Web3 DAO   \n",
       "3           3        tonkavan.eth  Decentralized S3   \n",
       "4           4          sbudao.eth               SBU   \n",
       "\n",
       "                                               about  \\\n",
       "0  Providing keys for you to build wealth, buy pr...   \n",
       "1  A distant island where you freeze your assets ...   \n",
       "2                               Web3 Investment Club   \n",
       "3                                                NaN   \n",
       "4                                                NaN   \n",
       "\n",
       "                                              avatar terms  symbol  \\\n",
       "0  ipfs://QmaKxkniLdrnrM64JpfPXXWVS49i4UgX2qzT5df...   NaN    PHOM   \n",
       "1  ipfs://QmRBD5Tff7YKAFF2xmdJ42YiGFGmgc8GoUt1o72...   NaN  sNORTH   \n",
       "2                                                NaN   NaN    WEB3   \n",
       "3  ipfs://QmcpZbih6wHbh5Lr1VbB39zo1kvLc679iN1GeUc...   NaN      S3   \n",
       "4  https://pbs.twimg.com/profile_images/146153299...   NaN     SBU   \n",
       "\n",
       "         skin github email  ... plugins_quorum_methodABI_outputs  \\\n",
       "0         NaN    NaN   NaN  ...                              NaN   \n",
       "1         NaN    NaN   NaN  ...                              NaN   \n",
       "2    balancer    NaN   NaN  ...                              NaN   \n",
       "3  agdeportes    NaN   NaN  ...                              NaN   \n",
       "4         NaN    NaN   NaN  ...                              NaN   \n",
       "\n",
       "  plugins_quorum_methodABI_stateMutability plugins_quorum  \\\n",
       "0                                      NaN            NaN   \n",
       "1                                      NaN            NaN   \n",
       "2                                      NaN            NaN   \n",
       "3                                      NaN            NaN   \n",
       "4                                      NaN            NaN   \n",
       "\n",
       "   plugins_safeSnap_name plugins_safeSnap_filters_minScore  \\\n",
       "0                    NaN                               NaN   \n",
       "1                    NaN                               NaN   \n",
       "2                    NaN                               NaN   \n",
       "3                    NaN                               NaN   \n",
       "4                    NaN                               NaN   \n",
       "\n",
       "   plugins_safeSnap_filters_defaultTab  \\\n",
       "0                                  NaN   \n",
       "1                                  NaN   \n",
       "2                                  NaN   \n",
       "3                                  NaN   \n",
       "4                                  NaN   \n",
       "\n",
       "   plugins_safeSnap_plugins_daoModule_address plugins_safeSnap_strategies  \\\n",
       "0                                         NaN                         NaN   \n",
       "1                                         NaN                         NaN   \n",
       "2                                         NaN                         NaN   \n",
       "3                                         NaN                         NaN   \n",
       "4                                         NaN                         NaN   \n",
       "\n",
       "   plugins_safeSnap_daoModule_address  plugins_aragon_id  \n",
       "0                                 NaN                NaN  \n",
       "1                                 NaN                NaN  \n",
       "2                                 NaN                NaN  \n",
       "3                                 NaN                NaN  \n",
       "4                                 NaN                NaN  \n",
       "\n",
       "[5 rows x 58 columns]"
      ]
     },
     "execution_count": 55,
     "metadata": {},
     "output_type": "execute_result"
    }
   ],
   "source": [
    "df.head()"
   ]
  },
  {
   "cell_type": "code",
   "execution_count": 56,
   "metadata": {},
   "outputs": [],
   "source": [
    "df = Spaces(df)"
   ]
  },
  {
   "cell_type": "code",
   "execution_count": 57,
   "metadata": {},
   "outputs": [
    {
     "name": "stdout",
     "output_type": "stream",
     "text": [
      "end\n"
     ]
    }
   ],
   "source": [
    "fields, names, strats = df._get_spaces_strategies()"
   ]
  },
  {
   "cell_type": "code",
   "execution_count": 58,
   "metadata": {},
   "outputs": [],
   "source": [
    "from collections import Counter\n"
   ]
  },
  {
   "cell_type": "code",
   "execution_count": 59,
   "metadata": {},
   "outputs": [
    {
     "data": {
      "text/plain": [
       "<AxesSubplot:>"
      ]
     },
     "execution_count": 59,
     "metadata": {},
     "output_type": "execute_result"
    },
    {
     "data": {
      "image/png": "[encoded data removed]",
      "text/plain": [
       "<Figure size 432x288 with 1 Axes>"
      ]
     },
     "metadata": {
      "needs_background": "light"
     },
     "output_type": "display_data"
    }
   ],
   "source": [
    "counts = Counter(names)\n",
    "pd.DataFrame([counts]).T.sort_values(by=0, ascending=False).rename(columns={0:\"Strategies count\"}).head(20).plot.barh()"
   ]
  },
  {
   "cell_type": "code",
   "execution_count": 60,
   "metadata": {},
   "outputs": [
    {
     "data": {
      "text/html": [
       "<div>\n",
       "<style scoped>\n",
       "    .dataframe tbody tr th:only-of-type {\n",
       "        vertical-align: middle;\n",
       "    }\n",
       "\n",
       "    .dataframe tbody tr th {\n",
       "        vertical-align: top;\n",
       "    }\n",
       "\n",
       "    .dataframe thead th {\n",
       "        text-align: right;\n",
       "    }\n",
       "</style>\n",
       "<table border=\"1\" class=\"dataframe\">\n",
       "  <thead>\n",
       "    <tr style=\"text-align: right;\">\n",
       "      <th></th>\n",
       "      <th>Spaces count</th>\n",
       "    </tr>\n",
       "  </thead>\n",
       "  <tbody>\n",
       "    <tr>\n",
       "      <th>erc20-balance-of</th>\n",
       "      <td>3813</td>\n",
       "    </tr>\n",
       "    <tr>\n",
       "      <th>erc721</th>\n",
       "      <td>809</td>\n",
       "    </tr>\n",
       "  </tbody>\n",
       "</table>\n",
       "</div>"
      ],
      "text/plain": [
       "                  Spaces count\n",
       "erc20-balance-of          3813\n",
       "erc721                     809"
      ]
     },
     "execution_count": 60,
     "metadata": {},
     "output_type": "execute_result"
    }
   ],
   "source": [
    "pd.DataFrame([counts]).T.sort_values(by=0, ascending=False).rename(columns={0:\"Spaces count\"}).head(20)"
   ]
  },
  {
   "cell_type": "code",
   "execution_count": 61,
   "metadata": {},
   "outputs": [
    {
     "data": {
      "text/plain": [
       "Spaces count    4622\n",
       "dtype: int64"
      ]
     },
     "execution_count": 61,
     "metadata": {},
     "output_type": "execute_result"
    }
   ],
   "source": [
    "pd.DataFrame([counts]).T.sort_values(by=0, ascending=False).rename(columns={0:\"Spaces count\"}).sum()"
   ]
  },
  {
   "cell_type": "code",
   "execution_count": 62,
   "metadata": {},
   "outputs": [
    {
     "data": {
      "text/plain": [
       "2"
      ]
     },
     "execution_count": 62,
     "metadata": {},
     "output_type": "execute_result"
    }
   ],
   "source": [
    "len(counts.keys())"
   ]
  },
  {
   "cell_type": "code",
   "execution_count": 63,
   "metadata": {},
   "outputs": [
    {
     "data": {
      "text/plain": [
       "[['erc20-balance-of'],\n",
       " ['erc20-balance-of'],\n",
       " ['erc20-balance-of'],\n",
       " [],\n",
       " [],\n",
       " ['erc20-balance-of'],\n",
       " ['erc20-balance-of'],\n",
       " ['erc20-balance-of'],\n",
       " ['erc20-balance-of'],\n",
       " ['erc20-balance-of']]"
      ]
     },
     "execution_count": 63,
     "metadata": {},
     "output_type": "execute_result"
    }
   ],
   "source": [
    "strats[:10]"
   ]
  },
  {
   "cell_type": "code",
   "execution_count": 65,
   "metadata": {},
   "outputs": [],
   "source": [
    "counts = Counter([\", \".join(sorted(x)) for x in strats])"
   ]
  },
  {
   "cell_type": "code",
   "execution_count": 66,
   "metadata": {},
   "outputs": [
    {
     "data": {
      "text/html": [
       "<div>\n",
       "<style scoped>\n",
       "    .dataframe tbody tr th:only-of-type {\n",
       "        vertical-align: middle;\n",
       "    }\n",
       "\n",
       "    .dataframe tbody tr th {\n",
       "        vertical-align: top;\n",
       "    }\n",
       "\n",
       "    .dataframe thead th {\n",
       "        text-align: right;\n",
       "    }\n",
       "</style>\n",
       "<table border=\"1\" class=\"dataframe\">\n",
       "  <thead>\n",
       "    <tr style=\"text-align: right;\">\n",
       "      <th></th>\n",
       "      <th>0</th>\n",
       "    </tr>\n",
       "  </thead>\n",
       "  <tbody>\n",
       "    <tr>\n",
       "      <th>erc20-balance-of</th>\n",
       "      <td>3148</td>\n",
       "    </tr>\n",
       "    <tr>\n",
       "      <th></th>\n",
       "      <td>977</td>\n",
       "    </tr>\n",
       "    <tr>\n",
       "      <th>erc721</th>\n",
       "      <td>574</td>\n",
       "    </tr>\n",
       "    <tr>\n",
       "      <th>erc20-balance-of, erc20-balance-of</th>\n",
       "      <td>115</td>\n",
       "    </tr>\n",
       "    <tr>\n",
       "      <th>erc721, erc721</th>\n",
       "      <td>19</td>\n",
       "    </tr>\n",
       "    <tr>\n",
       "      <th>erc20-balance-of, erc20-balance-of, erc20-balance-of</th>\n",
       "      <td>29</td>\n",
       "    </tr>\n",
       "    <tr>\n",
       "      <th>erc20-balance-of, erc721</th>\n",
       "      <td>130</td>\n",
       "    </tr>\n",
       "    <tr>\n",
       "      <th>erc20-balance-of, erc20-balance-of, erc20-balance-of, erc20-balance-of, erc20-balance-of, erc20-balance-of, erc20-balance-of, erc20-balance-of</th>\n",
       "      <td>4</td>\n",
       "    </tr>\n",
       "    <tr>\n",
       "      <th>erc20-balance-of, erc20-balance-of, erc721</th>\n",
       "      <td>10</td>\n",
       "    </tr>\n",
       "    <tr>\n",
       "      <th>erc20-balance-of, erc721, erc721</th>\n",
       "      <td>5</td>\n",
       "    </tr>\n",
       "    <tr>\n",
       "      <th>erc20-balance-of, erc20-balance-of, erc20-balance-of, erc721</th>\n",
       "      <td>6</td>\n",
       "    </tr>\n",
       "    <tr>\n",
       "      <th>erc721, erc721, erc721</th>\n",
       "      <td>5</td>\n",
       "    </tr>\n",
       "    <tr>\n",
       "      <th>erc20-balance-of, erc20-balance-of, erc20-balance-of, erc20-balance-of</th>\n",
       "      <td>12</td>\n",
       "    </tr>\n",
       "    <tr>\n",
       "      <th>erc20-balance-of, erc20-balance-of, erc20-balance-of, erc20-balance-of, erc20-balance-of</th>\n",
       "      <td>6</td>\n",
       "    </tr>\n",
       "    <tr>\n",
       "      <th>erc721, erc721, erc721, erc721</th>\n",
       "      <td>1</td>\n",
       "    </tr>\n",
       "    <tr>\n",
       "      <th>erc20-balance-of, erc20-balance-of, erc20-balance-of, erc20-balance-of, erc721, erc721</th>\n",
       "      <td>5</td>\n",
       "    </tr>\n",
       "    <tr>\n",
       "      <th>erc20-balance-of, erc20-balance-of, erc20-balance-of, erc20-balance-of, erc20-balance-of, erc20-balance-of</th>\n",
       "      <td>3</td>\n",
       "    </tr>\n",
       "    <tr>\n",
       "      <th>erc20-balance-of, erc20-balance-of, erc20-balance-of, erc20-balance-of, erc721</th>\n",
       "      <td>2</td>\n",
       "    </tr>\n",
       "    <tr>\n",
       "      <th>erc20-balance-of, erc20-balance-of, erc20-balance-of, erc20-balance-of, erc20-balance-of, erc721, erc721</th>\n",
       "      <td>2</td>\n",
       "    </tr>\n",
       "    <tr>\n",
       "      <th>erc20-balance-of, erc20-balance-of, erc20-balance-of, erc20-balance-of, erc20-balance-of, erc20-balance-of, erc721</th>\n",
       "      <td>1</td>\n",
       "    </tr>\n",
       "    <tr>\n",
       "      <th>erc20-balance-of, erc20-balance-of, erc721, erc721</th>\n",
       "      <td>1</td>\n",
       "    </tr>\n",
       "    <tr>\n",
       "      <th>erc20-balance-of, erc721, erc721, erc721</th>\n",
       "      <td>1</td>\n",
       "    </tr>\n",
       "  </tbody>\n",
       "</table>\n",
       "</div>"
      ],
      "text/plain": [
       "                                                       0\n",
       "erc20-balance-of                                    3148\n",
       "                                                     977\n",
       "erc721                                               574\n",
       "erc20-balance-of, erc20-balance-of                   115\n",
       "erc721, erc721                                        19\n",
       "erc20-balance-of, erc20-balance-of, erc20-balan...    29\n",
       "erc20-balance-of, erc721                             130\n",
       "erc20-balance-of, erc20-balance-of, erc20-balan...     4\n",
       "erc20-balance-of, erc20-balance-of, erc721            10\n",
       "erc20-balance-of, erc721, erc721                       5\n",
       "erc20-balance-of, erc20-balance-of, erc20-balan...     6\n",
       "erc721, erc721, erc721                                 5\n",
       "erc20-balance-of, erc20-balance-of, erc20-balan...    12\n",
       "erc20-balance-of, erc20-balance-of, erc20-balan...     6\n",
       "erc721, erc721, erc721, erc721                         1\n",
       "erc20-balance-of, erc20-balance-of, erc20-balan...     5\n",
       "erc20-balance-of, erc20-balance-of, erc20-balan...     3\n",
       "erc20-balance-of, erc20-balance-of, erc20-balan...     2\n",
       "erc20-balance-of, erc20-balance-of, erc20-balan...     2\n",
       "erc20-balance-of, erc20-balance-of, erc20-balan...     1\n",
       "erc20-balance-of, erc20-balance-of, erc721, erc721     1\n",
       "erc20-balance-of, erc721, erc721, erc721               1"
      ]
     },
     "execution_count": 66,
     "metadata": {},
     "output_type": "execute_result"
    }
   ],
   "source": [
    "pd.DataFrame([counts]).T"
   ]
  },
  {
   "cell_type": "code",
   "execution_count": 42,
   "metadata": {},
   "outputs": [],
   "source": [
    "df_fields = pd.DataFrame(fields)"
   ]
  },
  {
   "cell_type": "code",
   "execution_count": 70,
   "metadata": {},
   "outputs": [
    {
     "data": {
      "text/plain": [
       "[{'name': 'erc20-balance-of',\n",
       "  'params': {'symbol': 'CDT',\n",
       "   'address': '0x31989E0c6787c3F6781427BDE1A7b9A03B9a544D',\n",
       "   'decimals': 18}}]"
      ]
     },
     "execution_count": 70,
     "metadata": {},
     "output_type": "execute_result"
    }
   ],
   "source": [
    "df.df.strategies[15]"
   ]
  },
  {
   "cell_type": "code",
   "execution_count": 49,
   "metadata": {},
   "outputs": [
    {
     "data": {
      "text/plain": [
       "{'erc20-balance-of_symbol': 'PHOM',\n",
       " 'erc20-balance-of_address': '0x74586034cf0e7aed7e0c5cc2abe449520a5d82c7',\n",
       " 'erc20-balance-of_decimals': 18}"
      ]
     },
     "execution_count": 49,
     "metadata": {},
     "output_type": "execute_result"
    }
   ],
   "source": [
    "fields[i]"
   ]
  },
  {
   "cell_type": "code",
   "execution_count": 52,
   "metadata": {},
   "outputs": [
    {
     "data": {
      "text/plain": [
       "[{'erc20-balance-of_symbol': 'PHOM',\n",
       "  'erc20-balance-of_address': '0x74586034cf0e7aed7e0c5cc2abe449520a5d82c7',\n",
       "  'erc20-balance-of_decimals': 18},\n",
       " {'erc20-balance-of_symbol': 'sNORTH',\n",
       "  'erc20-balance-of_address': '0xe40EddA6d49d935D03eC8F7FAFd84DE14d99D2a1',\n",
       "  'erc20-balance-of_decimals': 18},\n",
       " {'erc20-balance-of_symbol': 'WEB3',\n",
       "  'erc20-balance-of_address': '0x48ffdc9f4533c2de5ad3d448d30b6f706ebdb6a1',\n",
       "  'erc20-balance-of_decimals': 18},\n",
       " {'erc1155-balance-of_symbol': 'S3',\n",
       "  'erc1155-balance-of_address': '0x2953399124F0cBB46d2CbACD8A89cF0599974963',\n",
       "  'erc1155-balance-of_tokenId': '43057838738407184153270976115277294017846352437158525761865245453717367422986',\n",
       "  'erc1155-balance-of_decimals': 0},\n",
       " {'erc20-with-balance_symbol': 'SBU',\n",
       "  'erc20-with-balance_address': '0x4848a07744e46bb3ea93ad4933075a4fa47b1162',\n",
       "  'erc20-with-balance_decimals': 0},\n",
       " {'comp-like-votes_symbol': 'Staked XVS',\n",
       "  'comp-like-votes_address': '0x051100480289e704d20e9DB4804837068f3f9204',\n",
       "  'comp-like-votes_decimals': 18,\n",
       "  'erc20-balance-of_symbol': 'XVS',\n",
       "  'erc20-balance-of_address': '0xcf6bb5389c92bdda8a3747ddb454cb7a64626c63',\n",
       "  'erc20-balance-of_decimals': 18},\n",
       " {'erc20-balance-of_symbol': 'xANKH',\n",
       "  'erc20-balance-of_address': '0x6298C7D6f4f6D8CF78ffad07e90C05431ee3a498',\n",
       "  'erc20-balance-of_decimals': 18},\n",
       " {'erc20-balance-of_symbol': 'ILA',\n",
       "  'erc20-balance-of_address': '0x4fbedc7b946e489208ded562e8e5f2bc83b7de42',\n",
       "  'erc20-balance-of_decimals': 18},\n",
       " {'erc20-balance-of_symbol': 'SNOOD',\n",
       "  'erc20-balance-of_address': '0xeF33e81BfcA7cCaE5C04F24A0e46FB877e31e6bC',\n",
       "  'erc20-balance-of_decimals': 18},\n",
       " {'erc20-balance-of_symbol': 'DAO',\n",
       "  'erc20-balance-of_address': '0x02376e49a514f0e538c473d20e9c2151e2804dea',\n",
       "  'erc20-balance-of_decimals': 18},\n",
       " {'cake_symbol': 'CAKE',\n",
       "  'erc20-balance-of_symbol': 'IOU',\n",
       "  'erc20-balance-of_address': '0x387027E21adaa40918b4FC356f8bCdB9ECe1bBC4',\n",
       "  'erc20-balance-of_decimals': 18},\n",
       " {'erc20-balance-of_symbol': 'CONVOY',\n",
       "  'erc20-balance-of_address': '0xc05e4b8b3062f37653a702b16bd6118180a1311d',\n",
       "  'erc20-balance-of_decimals': 9},\n",
       " {'erc721_symbol': 'sdn',\n",
       "  'erc721_address': '0xd9e49f550d0f605e3ccee3167ec14ee7a9134ddb'},\n",
       " {'erc20-balance-of_symbol': 'RND',\n",
       "  'erc20-balance-of_address': '0x1c7e83f8c581a967940dbfa7984744646ae46b29',\n",
       "  'erc20-balance-of_decimals': 18},\n",
       " {'erc721_symbol': 'NODE',\n",
       "  'erc721_address': '0xB90f5BA154fafeeE5c51B3f9C7C844D2E9df365E'},\n",
       " {'erc20-balance-of_symbol': 'CDT',\n",
       "  'erc20-balance-of_address': '0x31989E0c6787c3F6781427BDE1A7b9A03B9a544D',\n",
       "  'erc20-balance-of_decimals': 18},\n",
       " {'erc20-balance-of_symbol': 'CATG',\n",
       "  'erc20-balance-of_address': '0x676685b786Ef97C31D82B8810Ab9eed9943512AC',\n",
       "  'erc20-balance-of_decimals': 18},\n",
       " {'erc1155-balance-of_symbol': 'ABC',\n",
       "  'erc1155-balance-of_address': '0xE18a32192ED95b0FE9D70D19e5025f103475d7BA',\n",
       "  'erc1155-balance-of_tokenId': '0x8000000000000000000000000000000200000000000000000000000000000000',\n",
       "  'erc1155-balance-of_decimals': 0},\n",
       " {'erc721_symbol': 'Croblins',\n",
       "  'erc721_address': '0xaaafcd854dc740794a65b32458abe204205c9b4d'},\n",
       " {'erc721_symbol': 'APPLES',\n",
       "  'erc721_address': '0x410840438c658ea9da5875af4368541e51b84a63'},\n",
       " {'erc721_symbol': 'PUNK',\n",
       "  'erc721_address': '0xFD86D63748a6390E4a80739e776463088811774D'},\n",
       " {'erc20-balance-of_symbol': 'ELFI',\n",
       "  'erc20-balance-of_address': '0x2b1a91De5B9C3Ad6439eeAeD0E481F8cf6E22601',\n",
       "  'erc20-balance-of_decimals': 18},\n",
       " {'erc20-balance-of_symbol': 'FLOT',\n",
       "  'erc20-balance-of_address': '0x155dBbB7CE079f7b8EcfFf9688AdF6e6efb69a24',\n",
       "  'erc20-balance-of_decimals': 18},\n",
       " {'erc20-balance-of_symbol': 'NIDO',\n",
       "  'erc20-balance-of_address': '0x4e2e489237298AB0208909bfb5131477583b118F',\n",
       "  'erc20-balance-of_decimals': 9},\n",
       " {'erc721_symbol': 'BUD',\n",
       "  'erc721_address': '0x6317c4cab501655d7b85128a5868e98a094c0082'},\n",
       " {'balance-of-with-thresholds_symbol': 'VAYC',\n",
       "  'balance-of-with-thresholds_address': '0x9508f760833b82cDfc030D66Aa278C296e013F57',\n",
       "  'balance-of-with-thresholds_decimals': 0,\n",
       "  'balance-of-with-thresholds_thresholds': [{'votes': 1, 'threshold': 1}]},\n",
       " {'eth-balance_symbol': 'ETH'},\n",
       " {'erc20-balance-of_symbol': 'sFORT',\n",
       "  'erc20-balance-of_address': '0x6B8FB769d1957F2c29aBc9d1bEB95851cce775D8',\n",
       "  'erc20-balance-of_decimals': 9,\n",
       "  'erc20-balance-of-indexed_symbol': 'wsFORT',\n",
       "  'erc20-balance-of-indexed_address': '0xF3823A2504b5C5907fDd0f708efa0198bE4D837C',\n",
       "  'erc20-balance-of-indexed_decimals': 18,\n",
       "  'erc20-balance-of-indexed_indexAddress': '0x6B8FB769d1957F2c29aBc9d1bEB95851cce775D8',\n",
       "  'erc20-balance-of-indexed_indexDecimals': 9},\n",
       " {'erc20-balance-of_symbol': 'HCOMB',\n",
       "  'erc20-balance-of_address': '0x80631e062d9262af49aedc72349409118144e2fe',\n",
       "  'erc20-balance-of_decimals': 18},\n",
       " {'erc20-balance-of_symbol': 'NHF',\n",
       "  'erc20-balance-of_address': '0x324ff7c6517d121735c626a4b5c7dcda812680c1',\n",
       "  'erc20-balance-of_decimals': 18}]"
      ]
     },
     "execution_count": 52,
     "metadata": {},
     "output_type": "execute_result"
    }
   ],
   "source": [
    "fields[:30]"
   ]
  },
  {
   "cell_type": "code",
   "execution_count": null,
   "metadata": {},
   "outputs": [],
   "source": []
  }
 ],
 "metadata": {
  "interpreter": {
   "hash": "ec69bbfbabbf9ea482a61a1d5b6d1679220233224f653f4ab8509a130cc12175"
  },
  "kernelspec": {
   "display_name": "Python 3.8.12 ('etl-subgraphs-bq')",
   "language": "python",
   "name": "python3"
  },
  "language_info": {
   "codemirror_mode": {
    "name": "ipython",
    "version": 3
   },
   "file_extension": ".py",
   "mimetype": "text/x-python",
   "name": "python",
   "nbconvert_exporter": "python",
   "pygments_lexer": "ipython3",
   "version": "3.8.12"
  },
  "orig_nbformat": 4
 },
 "nbformat": 4,
 "nbformat_minor": 2
}
